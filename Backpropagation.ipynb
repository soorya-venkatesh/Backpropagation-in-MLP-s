{
 "cells": [
  {
   "cell_type": "markdown",
   "metadata": {
    "colab_type": "text",
    "id": "N5QCLaUnrnBV"
   },
   "source": [
    "# Back Propagation"
   ]
  },
  {
   "cell_type": "markdown",
   "metadata": {
    "colab_type": "text",
    "id": "sH5jPVX-rnBd"
   },
   "source": [
    "## 1. loading of data"
   ]
  },
  {
   "cell_type": "code",
   "execution_count": 1,
   "metadata": {
    "colab": {},
    "colab_type": "code",
    "id": "y4WT0EJRrnBg",
    "outputId": "90804161-647c-4283-a8c2-27188dd451ce"
   },
   "outputs": [
    {
     "name": "stdout",
     "output_type": "stream",
     "text": [
      "(506, 6)\n",
      "(506, 5) (506,)\n"
     ]
    }
   ],
   "source": [
    "import pickle\n",
    "with open('data.pkl', 'rb') as f:\n",
    "    data = pickle.load(f)\n",
    "print(data.shape)\n",
    "X = data[:, :5]\n",
    "y = data[:, -1]\n",
    "print(X.shape, y.shape)"
   ]
  },
  {
   "cell_type": "markdown",
   "metadata": {
    "colab_type": "text",
    "id": "GIkq6U0SrnBu"
   },
   "source": [
    "# 2. Computational graph"
   ]
  },
  {
   "cell_type": "markdown",
   "metadata": {
    "colab_type": "text",
    "id": "3XnJH-McrnBx"
   },
   "source": [
    "<img src='https://i.imgur.com/seSGbNS.png'>"
   ]
  },
  {
   "cell_type": "markdown",
   "metadata": {
    "colab_type": "text",
    "id": "YRQKYgJrrnB0"
   },
   "source": [
    "<pre>\n",
    "1. if you observe the graph, we are having input features [f1, f2, f3, f4, f5] and 9 weights [w1, w2, w3, w4, w5, w6,    w7, w8, w9]\n",
    "2. the final output of this graph is a value L which is computed as (Y-Y')^2\n",
    "</pre>"
   ]
  },
  {
   "cell_type": "markdown",
   "metadata": {
    "colab_type": "text",
    "id": "inW-os8IrnB3"
   },
   "source": [
    "### Task 1: Implementing backpropagation and Gradient checking\n",
    "\n",
    "\n",
    "<pre>1. <b>Check this video for better understanding of the computational graphs and back propagation:</b> <a href='https://www.youtube.com/watch?v=i94OvYb6noo#t=1m33s'>https://www.youtube.com/watch?v=i94OvYb6noo</a>\n",
    "</pre>\n",
    "\n",
    "<pre>\n",
    "2. <b>write two functions</b>\n",
    "\n",
    "#you can modify the definition of this function according to your needs\n",
    "<font color='green'>\n",
    "def forward_propagation(X, y, W):\n",
    "        <font color='grey'>\n",
    "        # X: input data point, note that in this assignment you are having 5-d data points\n",
    "        # y: output varible\n",
    "        # W: weight array, its of length 9, W[0] corresponds to w1 in graph, W[1] corresponds to w2 in graph, ..., W[8] corresponds to w9 in graph.\n",
    "        # write code to compute the value of L=(y-y')^2\n",
    "        </font>\n",
    "        return (L, any other variables which you might need to use for back propagation)\n",
    "        <font color='grey'>\n",
    "        # Hint: you can use dict type to store the required intermediate variables \n",
    "        </font>\n",
    "</font>\n",
    "</pre>\n",
    "\n",
    "<pre>\n",
    "# you can modify the definition of this function according to your needs\n",
    "<font color='blue'>\n",
    "def backward_propagation(L, Variables):\n",
    "        <font color='grey'>\n",
    "        # L: the loss we calculated for the current point\n",
    "        # Variables: the outputs of the forward_propagation() function\n",
    "        # write code to compute the gradients of each weight [w1,w2,w3,...,w9]\n",
    "        </font>\n",
    "        return dW\n",
    "        <font color='grey'>\n",
    "        # here dW can be a list, or dict or any other data type wich will have gradients of all the weights\n",
    "        # Hint: you can use dict type to store the required variables \n",
    "        </font>\n",
    "</font>\n",
    "</pre>\n",
    "3. <b> <a href='https://towardsdatascience.com/how-to-debug-a-neural-network-with-gradient-checking-41deec0357a9'>Gradient checking</a></b>:<a href='https://towardsdatascience.com/how-to-debug-a-neural-network-with-gradient-checking-41deec0357a9'>blog link</a> \n",
    "\n",
    "<pre>we know that the derivative of any function is </pre>$$\\lim_{\\epsilon\\to0}\\frac{f(x+\\epsilon)-f(x-\\epsilon)}{2\\epsilon}$$\n",
    "<pre>\n",
    "The definition above can be used as a numerical approximation of the derivative. Taking an epsilon small enough, the calculated approximation will have an error in the range of epsilon squared. \n",
    "\n",
    "In other words, if epsilon is 0.001, the approximation will be off by 0.00001.\n",
    "\n",
    "Therefore, we can use this to approximate the gradient, and in turn make sure that backpropagation is implemented properly. This forms the basis of gradient checking!\n",
    "\n",
    "</pre>\n",
    "\n",
    "<font >\n",
    "lets understand the concept with a simple example:\n",
    "$f(w1,w2,x1,x2)=w_{1}^{2} . x_{1} + w_{2} . x_{2}$ \n",
    "\n",
    "from the above function lets assume $w_{1}=1$, $w_{2}=2$, $x_{1}=3$, $x_{2}=4$ the gradient of $f$ w.r.t $w_{1}$ is\n",
    "\n",
    "\\begin{array} {lcl}\n",
    "\\frac{df}{dw_{1}} = dw_{1} &=&2.w_{1}.x_{1} \\\\& = &2.1.3\\\\& = &6\n",
    "\\end{array}\n",
    "\n",
    "\n",
    "let calculate the aproximate gradient of $w_{1}$ as mentinoned in the above formula and considering $\\epsilon=0.0001$\n",
    "\n",
    "\\begin{array} {lcl}\n",
    "dw_1^{approx} & = & \\frac{f(w1+\\epsilon,w2,x1,x2)-f(w1-\\epsilon,w2,x1,x2)}{2\\epsilon} \\\\ & = & \\frac{((1+0.0001)^{2} . 3 + 2 . 4) - ((1-0.0001)^{2} . 3 + 2 . 4)}{2\\epsilon} \\\\ & = & \\frac{(1.00020001 . 3 + 2 . 4) - (0.99980001. 3 + 2 . 4)}{2*0.0001} \\\\ & = & \\frac{(11.00060003) - (10.99940003)}{0.0002}\\\\ & = & 5.99999999999\n",
    "\\end{array}\n",
    "\n",
    "Then, we apply the following formula for gradient check: <i>gradient_check</i> = \n",
    "$\\frac{\\left\\Vert\\left (dW-dW^{approx}\\rm\\right) \\right\\Vert_2}{\\left\\Vert\\left (dW\\rm\\right) \\right\\Vert_2+\\left\\Vert\\left (dW^{approx}\\rm\\right) \\right\\Vert_2}$\n",
    "\n",
    "The equation above is basically the Euclidean distance normalized by the sum of the norm of the vectors. We use normalization in case that one of the vectors is very small.\n",
    "As a value for epsilon, we usually opt for 1e-7. Therefore, if gradient check return a value less than 1e-7, then it means that backpropagation was implemented correctly. Otherwise, there is potentially a mistake in your implementation. If the value exceeds 1e-3, then you are sure that the code is not correct.\n",
    "\n",
    "in our example: <i>gradient_check</i> $ = \\frac{(6 - 5.999999999994898)}{(6 + 5.999999999994898)} = 4.2514140356330737e^{-13}$\n",
    "\n",
    "you can mathamatically derive the same thing like this\n",
    "\n",
    "\\begin{array} {lcl}\n",
    "dw_1^{approx} & = & \\frac{f(w1+\\epsilon,w2,x1,x2)-f(w1-\\epsilon,w2,x1,x2)}{2\\epsilon} \\\\ & = & \\frac{((w_{1}+\\epsilon)^{2} . x_{1} + w_{2} . x_{2}) - ((w_{1}-\\epsilon)^{2} . x_{1} + w_{2} . x_{2})}{2\\epsilon} \\\\ & = & \\frac{4. \\epsilon.w_{1}. x_{1}}{2\\epsilon} \\\\ & = &  2.w_{1}.x_{1}\n",
    "\\end{array}\n",
    "\n",
    "to do this task you need to write a function \n",
    "<pre>\n",
    "<font color='darkblue'>\n",
    "W = initilize_randomly\n",
    "def gradient_checking(data_point, W):\n",
    "    <font color='grey'>\n",
    "    # compute the L value using forward_propagation()\n",
    "    # compute the gradients of W using backword_propagation()\n",
    "    </font>\n",
    "    approx_gradients = []\n",
    "    for each wi weight value in W:\n",
    "        <font color='grey'>\n",
    "        # add a small value to weight wi, and then find the values of L with the updated weights\n",
    "        # subtract a small value to weight wi, and then find the values of L with the updated weights\n",
    "        # compute the approximation gradients of weight wi\n",
    "        </font>\n",
    "        approx_gradients.append(approximation gradients of weight wi)\n",
    "    <font color='grey'>\n",
    "    # compare the gradient of weights W from backword_propagation() with the aproximation gradients of weights with      gradient_check formula\n",
    "    </font>\n",
    "    return gradient_check\n",
    "</font>\n",
    "NOTE: you can do sanity check by checking all the return values of gradient_checking(), they have to be zero. if not you have bug in your code\n",
    "</pre>"
   ]
  },
  {
   "cell_type": "markdown",
   "metadata": {
    "colab_type": "text",
    "id": "mf1fj5ZernB5"
   },
   "source": [
    "### Task 2: Optimizers\n",
    "\n",
    "1. As a part of this task, you will be implementing 3 type of optimizers(methods to update weight)\n",
    "2. check this video and blog: https://www.youtube.com/watch?v=gYpoJMlgyXA,  http://cs231n.github.io/neural-networks-3/\n",
    "3. use the same computational graph that was mentioned above to do this task\n",
    "4. initilze the 9 weights from normal distribution with mean=0 and std=0.01\n",
    "\n",
    "5. \n",
    "\n",
    "<pre>\n",
    "    for each epoch(1-100):\n",
    "        for each data point in your data:\n",
    "            using the functions forward_propagation() and backword_propagation() compute the gradients of weights\n",
    "            update the weigts with help of gradients  ex: w1 = w1-learning_rate*dw1\n",
    "</pre>\n",
    "\n",
    "6.\n",
    "\n",
    "<pre>\n",
    "<b>task 2.1</b>: you will be implementing the above algorithm with <b>Vanilla update</b> of weights\n",
    "<b>task 2.2</b>: you will be implementing the above algorithm with <b>Momentum update</b> of weights\n",
    "<b>task 2.3</b>: you will be implementing the above algorithm with <b>Adam update</b> of weights\n",
    "</pre>\n",
    "\n"
   ]
  },
  {
   "cell_type": "code",
   "execution_count": 47,
   "metadata": {},
   "outputs": [],
   "source": [
    "import numpy as np\n",
    "from matplotlib import pyplot as plt"
   ]
  },
  {
   "cell_type": "code",
   "execution_count": 28,
   "metadata": {},
   "outputs": [],
   "source": [
    "w=np.random.uniform(low=-4,high=4,size=9)"
   ]
  },
  {
   "cell_type": "code",
   "execution_count": 24,
   "metadata": {},
   "outputs": [],
   "source": [
    "def sigmoid(x):\n",
    "    return(1/(1+np.exp(-x)))\n",
    "\n",
    "def forward(w):\n",
    "    \n",
    "    \n",
    "    #right\n",
    "    p7=w[2]*f3\n",
    "    p5=np.sin(p7)\n",
    "    p6=w[3]*f4+w[4]*f5\n",
    "    p2=sigmoid((p5*p6)+w[7])\n",
    "    p1=p2*w[8]\n",
    "    \n",
    "    #left\n",
    "    q6=w[0]*f1+w[1]*f2\n",
    "    q3=np.exp((q6**2)+w[5])\n",
    "    q1=np.tanh(q3+w[6])\n",
    "    l=q1+p1\n",
    "    \n",
    "    \n",
    "    \n",
    "    return(l,p2,p7,q1,q3,q6,p6)\n",
    "\n",
    "def retloss(w):\n",
    "    #right\n",
    "    p7=w[2]*f3\n",
    "    p5=np.sin(p7)\n",
    "    p6=w[3]*f4+w[4]*f5\n",
    "    p2=sigmoid((p5*p6)+w[7])\n",
    "    p1=p2*w[8]\n",
    "    \n",
    "    #left\n",
    "    q6=w[0]*f1+w[1]*f2\n",
    "    q3=np.exp((q6**2)+w[5])\n",
    "    q1=np.tanh(q3+w[6])\n",
    "    \n",
    "    l=q1+p1\n",
    "    \n",
    "    return(l)\n",
    "\n",
    "def backpropagation(p2,p7,q1,q3,q6,p6):\n",
    "    #backpropright\n",
    "    dw=np.zeros(9)\n",
    "    dw[8]=p2\n",
    "    dw[7]=p2*(1-p2)*w[8]\n",
    "    dw[2]=dw[7]*f3*np.cos(p7)*p6\n",
    "    dw[3]=dw[7]*np.sin(p7)*f4\n",
    "    dw[4]=dw[7]*np.sin(p7)*f5\n",
    "    \n",
    "    #backpropleft\n",
    "    dw[6]=1-np.square(q1)    \n",
    "    dw[5]=dw[6]*q3\n",
    "    dw[0]=dw[5]*2*f1*q6\n",
    "    dw[1]=dw[5]*f2*2*q6\n",
    "        \n",
    "    return(dw)\n",
    "    "
   ]
  },
  {
   "cell_type": "code",
   "execution_count": 41,
   "metadata": {},
   "outputs": [],
   "source": [
    "def gradient_check(w):\n",
    "\n",
    "\n",
    "    epsilon=1e-4\n",
    "    l,p2,p7,q1,q3,q6,p6=forward(w)\n",
    "    print(\"loss for datapint index=\",i,\"is\",l)\n",
    "    g=backpropagation(p2,p7,q1,q3,q6,p6)\n",
    "    \n",
    "    dwapprox=[]\n",
    "    for count,value in enumerate(g):\n",
    "        wcopy=w.copy()\n",
    "\n",
    "        wcopy[count]+=epsilon\n",
    "        term1=retloss(wcopy)\n",
    "        wcopy=w.copy()\n",
    "\n",
    "        wcopy[count]-=epsilon\n",
    "        term2=retloss(wcopy)\n",
    "        final=(term1-term2)/(2*epsilon)\n",
    "        dwapprox.append(final)\n",
    "   \n",
    "\n",
    "    \n",
    "    return(dwapprox,g)"
   ]
  },
  {
   "cell_type": "code",
   "execution_count": 42,
   "metadata": {},
   "outputs": [
    {
     "name": "stdout",
     "output_type": "stream",
     "text": [
      "loss for datapint index= 78 is -0.538041749989834\n"
     ]
    }
   ],
   "source": [
    "i=78 #\n",
    "f1=X[i,0]\n",
    "f2=X[i,1]\n",
    "f3=X[i,2]\n",
    "f4=X[i,3]\n",
    "f5=X[i,4]\n",
    "approx,true=gradient_check(w)"
   ]
  },
  {
   "cell_type": "code",
   "execution_count": 43,
   "metadata": {},
   "outputs": [
    {
     "name": "stdout",
     "output_type": "stream",
     "text": [
      "gradient check value for w1 = 8.174246083104431e-10\n",
      "gradient check value for w2 = 3.63980675942421e-09\n",
      "gradient check value for w3 = 1.025229503847887e-11\n",
      "gradient check value for w4 = 3.3337981575762745e-11\n",
      "gradient check value for w5 = 4.420475706224892e-12\n",
      "gradient check value for w6 = 2.549295435615951e-09\n",
      "gradient check value for w7 = 3.226212939455224e-09\n",
      "gradient check value for w8 = 3.599715930636974e-11\n",
      "gradient check value for w9 = 6.462793401488868e-13\n"
     ]
    }
   ],
   "source": [
    "i=1\n",
    "for g,dwapprox in zip(true,approx):\n",
    "    num=np.linalg.norm(g-dwapprox)\n",
    "    din=np.linalg.norm(g)+np.linalg.norm(dwapprox)\n",
    "    print(\"gradient check value for w\"+str(i),\"=\",num/din)\n",
    "    i+=1\n",
    "    "
   ]
  },
  {
   "cell_type": "markdown",
   "metadata": {},
   "source": [
    "## Task 2\n",
    "#### Task2.1: Ordinary SGD"
   ]
  },
  {
   "cell_type": "code",
   "execution_count": 46,
   "metadata": {},
   "outputs": [
    {
     "name": "stdout",
     "output_type": "stream",
     "text": [
      "loss after epoch 0 = 630.545672248777\n",
      "loss after epoch 1 = 426.89081815457394\n",
      "loss after epoch 2 = 362.7395211181881\n",
      "loss after epoch 3 = 327.8752613803623\n",
      "loss after epoch 4 = 301.676389015934\n",
      "loss after epoch 5 = 277.94667799096516\n",
      "loss after epoch 6 = 253.8226488094485\n",
      "loss after epoch 7 = 227.52626388757403\n",
      "loss after epoch 8 = 197.87187614050663\n",
      "loss after epoch 9 = 164.4903084497198\n",
      "loss after epoch 10 = 128.524284750196\n",
      "loss after epoch 11 = 93.17993407611372\n",
      "loss after epoch 12 = 62.85056997767697\n",
      "loss after epoch 13 = 40.60291221125043\n",
      "loss after epoch 14 = 26.487735525700565\n",
      "loss after epoch 15 = 18.424872139746206\n",
      "loss after epoch 16 = 14.037306047863702\n",
      "loss after epoch 17 = 11.614222653343965\n",
      "loss after epoch 18 = 10.173406063814515\n",
      "loss after epoch 19 = 9.216962988402269\n",
      "loss after epoch 20 = 8.508419858827784\n",
      "loss after epoch 21 = 7.938053359218055\n",
      "loss after epoch 22 = 7.454300751963732\n",
      "loss after epoch 23 = 7.0317065406666925\n",
      "loss after epoch 24 = 6.6565738074355805\n",
      "loss after epoch 25 = 6.320644882151785\n",
      "loss after epoch 26 = 6.018309800404304\n",
      "loss after epoch 27 = 5.74534973404179\n",
      "loss after epoch 28 = 5.498352535630158\n",
      "loss after epoch 29 = 5.274428197885822\n",
      "loss after epoch 30 = 5.071062010280622\n",
      "loss after epoch 31 = 4.886033157924766\n",
      "loss after epoch 32 = 4.717365589001272\n",
      "loss after epoch 33 = 4.5632953803637655\n",
      "loss after epoch 34 = 4.4222468441065175\n",
      "loss after epoch 35 = 4.292813451849073\n",
      "loss after epoch 36 = 4.173741559343414\n",
      "loss after epoch 37 = 4.063915892593051\n",
      "loss after epoch 38 = 3.9623462698076177\n",
      "loss after epoch 39 = 3.8681553037940386\n",
      "loss after epoch 40 = 3.780566969091951\n",
      "loss after epoch 41 = 3.6988959864449904\n",
      "loss after epoch 42 = 3.622538006389687\n",
      "loss after epoch 43 = 3.550960582008382\n",
      "loss after epoch 44 = 3.4836949186092268\n",
      "loss after epoch 45 = 3.42032838120594\n",
      "loss after epoch 46 = 3.360497732522392\n",
      "loss after epoch 47 = 3.303883066645713\n",
      "loss after epoch 48 = 3.250202397280248\n",
      "loss after epoch 49 = 3.1992068551433084\n",
      "loss after epoch 50 = 3.15067644640491\n",
      "loss after epoch 51 = 3.1044163230460344\n",
      "loss after epoch 52 = 3.0602535163456475\n",
      "loss after epoch 53 = 3.0180340861311494\n",
      "loss after epoch 54 = 2.9776206406704135\n",
      "loss after epoch 55 = 2.9388901848993956\n",
      "loss after epoch 56 = 2.901732257855619\n",
      "loss after epoch 57 = 2.8660473235487047\n",
      "loss after epoch 58 = 2.831745382904672\n",
      "loss after epoch 59 = 2.798744777764208\n",
      "loss after epoch 60 = 2.7669711611194\n",
      "loss after epoch 61 = 2.736356610784613\n",
      "loss after epoch 62 = 2.7068388664834027\n",
      "loss after epoch 63 = 2.678360672876185\n",
      "loss after epoch 64 = 2.650869213349117\n",
      "loss after epoch 65 = 2.6243156214368146\n",
      "loss after epoch 66 = 2.598654558570063\n",
      "loss after epoch 67 = 2.573843848440301\n",
      "loss after epoch 68 = 2.5498441596716033\n",
      "loss after epoch 69 = 2.526618729706664\n",
      "loss after epoch 70 = 2.5041331238647624\n",
      "loss after epoch 71 = 2.4823550244349053\n",
      "loss after epoch 72 = 2.461254045443159\n",
      "loss after epoch 73 = 2.4408015693964282\n",
      "loss after epoch 74 = 2.4209706028694478\n",
      "loss after epoch 75 = 2.4017356482817327\n",
      "loss after epoch 76 = 2.3830725896174982\n",
      "loss after epoch 77 = 2.364958590185438\n",
      "loss after epoch 78 = 2.3473720008057493\n",
      "loss after epoch 79 = 2.3302922770563277\n",
      "loss after epoch 80 = 2.313699904416488\n",
      "loss after epoch 81 = 2.2975763303200925\n",
      "loss after epoch 82 = 2.281903902276024\n",
      "loss after epoch 83 = 2.2666658113369733\n",
      "loss after epoch 84 = 2.251846040300756\n",
      "loss after epoch 85 = 2.237429316115769\n",
      "loss after epoch 86 = 2.2234010660352856\n",
      "loss after epoch 87 = 2.2097473771274005\n",
      "loss after epoch 88 = 2.1964549587998423\n",
      "loss after epoch 89 = 2.1835111080429512\n",
      "loss after epoch 90 = 2.170903677131812\n",
      "loss after epoch 91 = 2.158621043560494\n",
      "loss after epoch 92 = 2.1466520820084978\n",
      "loss after epoch 93 = 2.134986138162828\n",
      "loss after epoch 94 = 2.123613004238992\n",
      "loss after epoch 95 = 2.112522896061558\n",
      "loss after epoch 96 = 2.1017064315794807\n",
      "loss after epoch 97 = 2.0911546107045216\n",
      "loss after epoch 98 = 2.0808587963719782\n",
      "loss after epoch 99 = 2.0708106967330018\n"
     ]
    }
   ],
   "source": [
    "w=np.random.normal(loc=0,scale=1,size=9)\n",
    "learning_rate=0.001\n",
    "plot_loss=[]\n",
    "for epoch in range(0,100):\n",
    "    ypred=[]\n",
    "    for x,y1 in (zip(X,y)):\n",
    "        \n",
    "        f1=x[0]\n",
    "        f2=x[1]\n",
    "        f3=x[2]\n",
    "        f4=x[3]\n",
    "        f5=x[4]\n",
    "        \n",
    "\n",
    "        l,p2,p7,q1,q3,q6,p6 = forward(w)\n",
    "        \n",
    "        ypred.append(l)\n",
    "        \n",
    "        g=backpropagation(p2,p7,q1,q3,q6,p6) \n",
    "        w= w + (g*2*(y1-l)*learning_rate)\n",
    "    \n",
    "    loss=np.sum(np.square(ypred-y))\n",
    "    plot_loss.append(loss)\n",
    "    print(\"loss after epoch\",epoch,\"=\",loss)"
   ]
  },
  {
   "cell_type": "code",
   "execution_count": 50,
   "metadata": {},
   "outputs": [
    {
     "data": {
      "text/plain": [
       "Text(0.5,1,'Loss vs Epoch Plot')"
      ]
     },
     "execution_count": 50,
     "metadata": {},
     "output_type": "execute_result"
    },
    {
     "data": {
      "image/png": "[encoded data removed]",
      "text/plain": [
       "<Figure size 432x288 with 1 Axes>"
      ]
     },
     "metadata": {},
     "output_type": "display_data"
    }
   ],
   "source": [
    "plt.plot(plot_loss)\n",
    "plt.xlabel(\"Epoch number\")\n",
    "plt.ylabel(\"Squared Loss\")\n",
    "plt.title(\"Loss vs Epoch Plot\")"
   ]
  },
  {
   "cell_type": "markdown",
   "metadata": {},
   "source": [
    "### Observations:\n",
    "1. vanilla SGD seems to converge as loss increasing with epoch\n",
    "2. Loss at around 100th epoch is 2.07\n",
    "3. Loss hasent reached global minima as convergence rate is slow"
   ]
  },
  {
   "cell_type": "markdown",
   "metadata": {},
   "source": [
    "#### Task 2.2: Momemtum based SGD\n"
   ]
  },
  {
   "cell_type": "code",
   "execution_count": 52,
   "metadata": {},
   "outputs": [
    {
     "name": "stdout",
     "output_type": "stream",
     "text": [
      "loss after epoch 0 = 211.5150318966041\n",
      "loss after epoch 1 = 22.94848918250546\n",
      "loss after epoch 2 = 11.396808752976437\n",
      "loss after epoch 3 = 7.421055632851299\n",
      "loss after epoch 4 = 4.993765631029463\n",
      "loss after epoch 5 = 3.614673103051535\n",
      "loss after epoch 6 = 2.817408097725818\n",
      "loss after epoch 7 = 2.3386757978689645\n",
      "loss after epoch 8 = 2.038554179795635\n",
      "loss after epoch 9 = 1.8416756889603376\n",
      "loss after epoch 10 = 1.7062813376133095\n",
      "loss after epoch 11 = 1.6085532468544543\n",
      "loss after epoch 12 = 1.534545743766489\n",
      "loss after epoch 13 = 1.4759021081001962\n",
      "loss after epoch 14 = 1.4275091260966597\n",
      "loss after epoch 15 = 1.3861763140485412\n",
      "loss after epoch 16 = 1.3498740607369437\n",
      "loss after epoch 17 = 1.3172851299838446\n",
      "loss after epoch 18 = 1.2875360291992322\n",
      "loss after epoch 19 = 1.2600336932518168\n",
      "loss after epoch 20 = 1.234364879125204\n",
      "loss after epoch 21 = 1.2102334422171395\n",
      "loss after epoch 22 = 1.187420782150308\n",
      "loss after epoch 23 = 1.165760616521464\n",
      "loss after epoch 24 = 1.145122704058204\n",
      "loss after epoch 25 = 1.1254022104306451\n",
      "loss after epoch 26 = 1.1065126644794405\n",
      "loss after epoch 27 = 1.0883812202610832\n",
      "loss after epoch 28 = 1.070945414372324\n",
      "loss after epoch 29 = 1.0541509031872858\n",
      "loss after epoch 30 = 1.0379498498042117\n",
      "loss after epoch 31 = 1.0222997474630011\n",
      "loss after epoch 32 = 1.00716254056996\n",
      "loss after epoch 33 = 0.9925039520698382\n",
      "loss after epoch 34 = 0.9782929565754466\n",
      "loss after epoch 35 = 0.9645013585627289\n",
      "loss after epoch 36 = 0.9511034479432015\n",
      "loss after epoch 37 = 0.9380757138947962\n",
      "loss after epoch 38 = 0.9253966035292469\n",
      "loss after epoch 39 = 0.9130463158021924\n",
      "loss after epoch 40 = 0.9010066236735355\n",
      "loss after epoch 41 = 0.8892607193171778\n",
      "loss after epoch 42 = 0.8777930784319555\n",
      "loss after epoch 43 = 0.8665893405951395\n",
      "loss after epoch 44 = 0.8556362032434841\n",
      "loss after epoch 45 = 0.8449213273409291\n",
      "loss after epoch 46 = 0.8344332531482848\n",
      "loss after epoch 47 = 0.8241613247826886\n",
      "loss after epoch 48 = 0.814095622467454\n",
      "loss after epoch 49 = 0.8042269015415198\n",
      "loss after epoch 50 = 0.7945465374338884\n",
      "loss after epoch 51 = 0.7850464759195239\n",
      "loss after epoch 52 = 0.7757191880655003\n",
      "loss after epoch 53 = 0.7665576293530626\n",
      "loss after epoch 54 = 0.7575552025267124\n",
      "loss after epoch 55 = 0.7487057237763857\n",
      "loss after epoch 56 = 0.7400033919067637\n",
      "loss after epoch 57 = 0.7314427601883301\n",
      "loss after epoch 58 = 0.7230187106203798\n",
      "loss after epoch 59 = 0.7147264303667392\n",
      "loss after epoch 60 = 0.7065613901520987\n",
      "loss after epoch 61 = 0.6985193244299341\n",
      "loss after epoch 62 = 0.6905962131539305\n",
      "loss after epoch 63 = 0.6827882650025675\n",
      "loss after epoch 64 = 0.6750919019226596\n",
      "loss after epoch 65 = 0.6675037448716744\n",
      "loss after epoch 66 = 0.660020600650925\n",
      "loss after epoch 67 = 0.652639449732896\n",
      "loss after epoch 68 = 0.6453574349956699\n",
      "loss after epoch 69 = 0.6381718512859619\n",
      "loss after epoch 70 = 0.6310801357402843\n",
      "loss after epoch 71 = 0.6240798588002147\n",
      "loss after epoch 72 = 0.6171687158642711\n",
      "loss after epoch 73 = 0.6103445195240951\n",
      "loss after epoch 74 = 0.6036051923376913\n",
      "loss after epoch 75 = 0.5969487600967803\n",
      "loss after epoch 76 = 0.5903733455493098\n",
      "loss after epoch 77 = 0.5838771625416623\n",
      "loss after epoch 78 = 0.5774585105482839\n",
      "loss after epoch 79 = 0.5711157695593607\n",
      "loss after epoch 80 = 0.5648473952995972\n",
      "loss after epoch 81 = 0.5586519147537528\n",
      "loss after epoch 82 = 0.5525279219763382\n",
      "loss after epoch 83 = 0.5464740741650593\n",
      "loss after epoch 84 = 0.5404890879792015\n",
      "loss after epoch 85 = 0.5345717360855955\n",
      "loss after epoch 86 = 0.5287208439165014\n",
      "loss after epoch 87 = 0.5229352866246636\n",
      "loss after epoch 88 = 0.5172139862222496\n",
      "loss after epoch 89 = 0.5115559088913528\n",
      "loss after epoch 90 = 0.5059600624545207\n",
      "loss after epoch 91 = 0.5004254939950317\n",
      "loss after epoch 92 = 0.49495128761702634\n",
      "loss after epoch 93 = 0.4895365623366596\n",
      "loss after epoch 94 = 0.4841804700958724\n",
      "loss after epoch 95 = 0.4788821938911544\n",
      "loss after epoch 96 = 0.47364094601017004\n",
      "loss after epoch 97 = 0.4684559663695576\n",
      "loss after epoch 98 = 0.4633265209478755\n",
      "loss after epoch 99 = 0.4582519003078109\n"
     ]
    }
   ],
   "source": [
    "w=np.random.normal(loc=0,scale=1,size=9)\n",
    "learning_rate=0.001\n",
    "v=0\n",
    "gamma=0.8\n",
    "plot_loss=[]\n",
    "for epoch in range(0,100):\n",
    "    ypred=[]\n",
    "    for x,y1 in (zip(X,y)):\n",
    "        \n",
    "        f1=x[0]\n",
    "        f2=x[1]\n",
    "        f3=x[2]\n",
    "        f4=x[3]\n",
    "        f5=x[4]\n",
    "        \n",
    "\n",
    "        l,p2,p7,q1,q3,q6,p6 = forward(w)\n",
    "        \n",
    "        ypred.append(l)\n",
    "        \n",
    "        g=backpropagation(p2,p7,q1,q3,q6,p6)\n",
    "        \n",
    "        v=gamma*v+(g*2*(y1-l)*learning_rate)\n",
    "        w= w + v\n",
    "    \n",
    "    loss=np.sum(np.square(ypred-y))\n",
    "    plot_loss.append(loss)\n",
    "    print(\"loss after epoch\",epoch,\"=\",loss)"
   ]
  },
  {
   "cell_type": "code",
   "execution_count": 53,
   "metadata": {},
   "outputs": [
    {
     "data": {
      "text/plain": [
       "Text(0.5,1,'Loss vs Epoch Plot')"
      ]
     },
     "execution_count": 53,
     "metadata": {},
     "output_type": "execute_result"
    },
    {
     "data": {
      "image/png": "[encoded data removed]",
      "text/plain": [
       "<Figure size 432x288 with 1 Axes>"
      ]
     },
     "metadata": {},
     "output_type": "display_data"
    }
   ],
   "source": [
    "plt.plot(plot_loss)\n",
    "plt.xlabel(\"Epoch number\")\n",
    "plt.ylabel(\"Squared Loss\")\n",
    "plt.title(\"Loss vs Epoch Plot\")"
   ]
  },
  {
   "cell_type": "code",
   "execution_count": 58,
   "metadata": {},
   "outputs": [
    {
     "data": {
      "text/plain": [
       "Text(0.5,1,'Loss vs Epoch Plot first 20 epochs')"
      ]
     },
     "execution_count": 58,
     "metadata": {},
     "output_type": "execute_result"
    },
    {
     "data": {
      "image/png": "[encoded data removed]",
      "text/plain": [
       "<Figure size 432x288 with 1 Axes>"
      ]
     },
     "metadata": {},
     "output_type": "display_data"
    }
   ],
   "source": [
    "plt.plot(plot_loss[1:20])\n",
    "plt.xlabel(\"Epoch number\")\n",
    "plt.ylabel(\"Squared Loss\")\n",
    "plt.title(\"Loss vs Epoch Plot first 20 epochs\")"
   ]
  },
  {
   "cell_type": "markdown",
   "metadata": {},
   "source": [
    "### Observation:\n",
    "1. Momentum based SGD performs better than than ordinary SGD\n",
    "2. Loss after 100th epoch 0.45\n",
    "3. Loss has improved compared to SGD but can it go better?? "
   ]
  },
  {
   "cell_type": "markdown",
   "metadata": {},
   "source": [
    "#### Task 2.3: Adam"
   ]
  },
  {
   "cell_type": "code",
   "execution_count": 59,
   "metadata": {},
   "outputs": [
    {
     "name": "stdout",
     "output_type": "stream",
     "text": [
      "loss after epoch 0 = 28.1004170430415\n",
      "loss after epoch 1 = 1.9440187413047219\n",
      "loss after epoch 2 = 1.2131861145356835\n",
      "loss after epoch 3 = 0.9379282184564355\n",
      "loss after epoch 4 = 0.7390967816281582\n",
      "loss after epoch 5 = 0.5862791269201306\n",
      "loss after epoch 6 = 0.4740798202638636\n",
      "loss after epoch 7 = 0.39371345024525767\n",
      "loss after epoch 8 = 0.3343867755370166\n",
      "loss after epoch 9 = 0.28682952539045514\n",
      "loss after epoch 10 = 0.2453690685561924\n",
      "loss after epoch 11 = 0.20727963392203397\n",
      "loss after epoch 12 = 0.17106273043155593\n",
      "loss after epoch 13 = 0.13553024073896794\n",
      "loss after epoch 14 = 0.09999308149833054\n",
      "loss after epoch 15 = 0.06537134895889728\n",
      "loss after epoch 16 = 0.035561594916623425\n",
      "loss after epoch 17 = 0.015703058089806352\n",
      "loss after epoch 18 = 0.006318023914250971\n",
      "loss after epoch 19 = 0.0030494186792327667\n",
      "loss after epoch 20 = 0.0019994622825391184\n",
      "loss after epoch 21 = 0.00152850088587263\n",
      "loss after epoch 22 = 0.0012203204964158349\n",
      "loss after epoch 23 = 0.000996061570945317\n",
      "loss after epoch 24 = 0.0008289774135716935\n",
      "loss after epoch 25 = 0.0007043747490277843\n",
      "loss after epoch 26 = 0.000626972278390608\n",
      "loss after epoch 27 = 0.0005844155785368991\n",
      "loss after epoch 28 = 0.0005422369308426237\n",
      "loss after epoch 29 = 0.0005140087557919008\n",
      "loss after epoch 30 = 0.0005965059171120172\n",
      "loss after epoch 31 = 0.0007663384316601272\n",
      "loss after epoch 32 = 0.000729331691280016\n",
      "loss after epoch 33 = 0.0005733923833123775\n",
      "loss after epoch 34 = 0.0005638749046422174\n",
      "loss after epoch 35 = 0.0006643288808478292\n",
      "loss after epoch 36 = 0.000633998063450513\n",
      "loss after epoch 37 = 0.0005242130800931707\n",
      "loss after epoch 38 = 0.0005644287795253864\n",
      "loss after epoch 39 = 0.000660112256794895\n",
      "loss after epoch 40 = 0.000582534725631394\n",
      "loss after epoch 41 = 0.00048011454506553293\n",
      "loss after epoch 42 = 0.0005973505375755023\n",
      "loss after epoch 43 = 0.000679506169607956\n",
      "loss after epoch 44 = 0.0005147857206611311\n",
      "loss after epoch 45 = 0.00044518673346555704\n",
      "loss after epoch 46 = 0.0006898603229064259\n",
      "loss after epoch 47 = 0.000691833794373249\n",
      "loss after epoch 48 = 0.0003829633754451528\n",
      "loss after epoch 49 = 0.00044153662714407297\n",
      "loss after epoch 50 = 0.0008797700847464022\n",
      "loss after epoch 51 = 0.0007176997547305556\n",
      "loss after epoch 52 = 0.00017796388126709343\n",
      "loss after epoch 53 = 0.00024096370411576864\n",
      "loss after epoch 54 = 0.0012372752447521466\n",
      "loss after epoch 55 = 0.001098952492631343\n",
      "loss after epoch 56 = 4.01497624630885e-05\n",
      "loss after epoch 57 = 2.8318284044291786e-05\n",
      "loss after epoch 58 = 0.00015928350227812114\n",
      "loss after epoch 59 = 0.002188943006314539\n",
      "loss after epoch 60 = 0.0011654782401084181\n",
      "loss after epoch 61 = 1.9958214612361595e-05\n",
      "loss after epoch 62 = 8.753785975917075e-06\n",
      "loss after epoch 63 = 2.935153360826757e-05\n",
      "loss after epoch 64 = 0.0004847138459954827\n",
      "loss after epoch 65 = 0.001954696396905059\n",
      "loss after epoch 66 = 0.0008712418089458302\n",
      "loss after epoch 67 = 1.7442594645737507e-05\n",
      "loss after epoch 68 = 2.2801546305019405e-05\n",
      "loss after epoch 69 = 0.0001433735635569559\n",
      "loss after epoch 70 = 0.002014719892029504\n",
      "loss after epoch 71 = 0.0011990923490816279\n",
      "loss after epoch 72 = 1.864545978517011e-05\n",
      "loss after epoch 73 = 6.9786335615317585e-06\n",
      "loss after epoch 74 = 9.106359481148235e-06\n",
      "loss after epoch 75 = 9.247707971121533e-05\n",
      "loss after epoch 76 = 0.0004529561523663791\n",
      "loss after epoch 77 = 0.0023943727759683257\n",
      "loss after epoch 78 = 0.0009511715494717704\n",
      "loss after epoch 79 = 2.248814196411473e-05\n",
      "loss after epoch 80 = 1.109439431112931e-05\n",
      "loss after epoch 81 = 4.361412994827101e-06\n",
      "loss after epoch 82 = 1.6742003465711343e-05\n",
      "loss after epoch 83 = 0.00011032333167473429\n",
      "loss after epoch 84 = 0.00010131996195502605\n",
      "loss after epoch 85 = 0.0002567160316087682\n",
      "loss after epoch 86 = 0.0002244092200867392\n",
      "loss after epoch 87 = 0.0025524952260930216\n",
      "loss after epoch 88 = 0.001404148659659312\n",
      "loss after epoch 89 = 3.534190857309433e-05\n",
      "loss after epoch 90 = 1.9064718964521076e-05\n",
      "loss after epoch 91 = 5.333318683568549e-05\n",
      "loss after epoch 92 = 0.000961163753325124\n",
      "loss after epoch 93 = 0.0011519929672290077\n",
      "loss after epoch 94 = 0.00017435335321936739\n",
      "loss after epoch 95 = 6.1022509242231025e-05\n",
      "loss after epoch 96 = 0.00039376854410962776\n",
      "loss after epoch 97 = 0.001566967522107195\n",
      "loss after epoch 98 = 0.0008939859800731541\n",
      "loss after epoch 99 = 2.300569551888622e-05\n"
     ]
    }
   ],
   "source": [
    "eps=1e-8\n",
    "beta1 = 0.9\n",
    "beta2 = 0.999\n",
    "mt=0\n",
    "vt=0\n",
    "plot_loss=[]\n",
    "w=np.random.normal(loc=0,scale=1,size=9)\n",
    "learning_rate=0.001\n",
    "\n",
    "for epoch in range(0,100):\n",
    "    ypred=[]\n",
    "    t=1\n",
    "    for x,y1 in (zip(X,y)):\n",
    "        \n",
    "        f1=x[0]\n",
    "        f2=x[1]\n",
    "        f3=x[2]\n",
    "        f4=x[3]\n",
    "        f5=x[4]\n",
    "        #print(t)\n",
    "\n",
    "        l,p2,p7,q1,q3,q6,p6 = forward(w)\n",
    "        ypred.append(l)\n",
    "        \n",
    "        g=backpropagation(p2,p7,q1,q3,q6,p6)\n",
    "        dx=(g*2*(y1-l))\n",
    "        \n",
    "        mt=(beta1*mt)+(1-beta1)*dx\n",
    "        #if t>1:\n",
    "        #    mt=mt/(1-(beta1**t))\n",
    "        \n",
    "        vt= (beta2*vt)+((dx**2)*(1-beta2))\n",
    "        #if t>1:\n",
    "        #    vt=vt/(1-(beta2**t))\n",
    "        \n",
    "        w = w + (learning_rate*mt/(np.sqrt(vt)+eps))\n",
    "        t+=1\n",
    "    #print(vt)\n",
    "    loss=np.sum(np.square(ypred-y))\n",
    "    plot_loss.append(loss)\n",
    "    print(\"loss after epoch\",epoch,\"=\",loss)\n"
   ]
  },
  {
   "cell_type": "code",
   "execution_count": 60,
   "metadata": {},
   "outputs": [
    {
     "data": {
      "text/plain": [
       "Text(0.5,1,'Loss vs Epoch Plot')"
      ]
     },
     "execution_count": 60,
     "metadata": {},
     "output_type": "execute_result"
    },
    {
     "data": {
      "image/png": "[encoded data removed]",
      "text/plain": [
       "<Figure size 432x288 with 1 Axes>"
      ]
     },
     "metadata": {},
     "output_type": "display_data"
    }
   ],
   "source": [
    "plt.plot(plot_loss)\n",
    "plt.xlabel(\"Epoch number\")\n",
    "plt.ylabel(\"Squared Loss\")\n",
    "plt.title(\"Loss vs Epoch Plot\")"
   ]
  },
  {
   "cell_type": "code",
   "execution_count": 64,
   "metadata": {},
   "outputs": [
    {
     "data": {
      "text/plain": [
       "Text(0.5,1,'Loss vs Epoch Plot first 10 epochs')"
      ]
     },
     "execution_count": 64,
     "metadata": {},
     "output_type": "execute_result"
    },
    {
     "data": {
      "image/png": "[encoded data removed]",
      "text/plain": [
       "<Figure size 432x288 with 1 Axes>"
      ]
     },
     "metadata": {},
     "output_type": "display_data"
    }
   ],
   "source": [
    "plt.plot(plot_loss[1:10])\n",
    "plt.xlabel(\"Epoch number\")\n",
    "plt.ylabel(\"Squared Loss\")\n",
    "plt.title(\"Loss vs Epoch Plot first 10 epochs\")"
   ]
  },
  {
   "cell_type": "markdown",
   "metadata": {},
   "source": [
    "### Observation:\n",
    "1. Adam performs much better than Momentum based SGD\n",
    "2. Loss after 100th epoch is 2.3e-05\n",
    "3. Loss is the best among all three algorithms"
   ]
  },
  {
   "cell_type": "markdown",
   "metadata": {},
   "source": [
    "## Conclusion\n",
    "\n",
    "#### convergence(Ordinary SGD)< convergence(momentum based SGD)<convergence(Adam)"
   ]
  }
 ],
 "metadata": {
  "colab": {
   "name": "Backpropagation.ipynb",
   "provenance": [],
   "version": "0.3.2"
  },
  "kernelspec": {
   "display_name": "Python 3",
   "language": "python",
   "name": "python3"
  },
  "language_info": {
   "codemirror_mode": {
    "name": "ipython",
    "version": 3
   },
   "file_extension": ".py",
   "mimetype": "text/x-python",
   "name": "python",
   "nbconvert_exporter": "python",
   "pygments_lexer": "ipython3",
   "version": "3.6.5"
  }
 },
 "nbformat": 4,
 "nbformat_minor": 1
}
